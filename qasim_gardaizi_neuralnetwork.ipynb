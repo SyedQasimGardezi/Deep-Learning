{
 "cells": [
  {
   "cell_type": "markdown",
   "metadata": {
    "id": "rpM9Y0CKzwXp"
   },
   "source": [
    "# Importing Required Libraries"
   ]
  },
  {
   "cell_type": "markdown",
   "metadata": {
    "id": "bfjX2-2a1kKR"
   },
   "source": [
    "# **Dataset description**\n",
    "\n",
    "\n",
    "An individual’s annual income results from various factors. Intuitively, it is influenced by the individual’s education level, age, gender, occupation, and etc. *Your task is to predicted individual income using neural networks*.\n",
    "\n",
    "**Attribute Information:**\n",
    "\n",
    "age: continuous.\n",
    "\n",
    "workclass: Private, Self-emp-not-inc, Self-emp-inc, Federal-gov, Local-gov, State-gov, Without-pay, Never-worked.\n",
    "\n",
    "fnlwgt: continuous.\n",
    "\n",
    "education: Bachelors, Some-college, 11th, HS-grad, Prof-school, Assoc-acdm, Assoc-voc, 9th, 7th-8th, 12th, Masters, 1st-4th, 10th, Doctorate, 5th-6th, Preschool.\n",
    "\n",
    "education-num: continuous.\n",
    "\n",
    "marital-status: Married-civ-spouse, Divorced, Never-married, Separated, Widowed, Married-spouse-absent, Married-AF-spouse.\n",
    "\n",
    "occupation: Tech-support, Craft-repair, Other-service, Sales, Exec-managerial, Prof-specialty, Handlers-cleaners, Machine-op-inspct, Adm-clerical, Farming-fishing, Transport-moving, Priv-house-serv, Protective-serv, Armed-Forces.\n",
    "\n",
    "relationship: Wife, Own-child, Husband, Not-in-family, Other-relative, Unmarried.\n",
    "\n",
    "race: White, Asian-Pac-Islander, Amer-Indian-Eskimo, Other, Black.\n",
    "sex: Female, Male.\n",
    "\n",
    "capital-gain: continuous.\n",
    "\n",
    "capital-loss: continuous.\n",
    "\n",
    "hours-per-week: continuous.\n",
    "\n",
    "native-country: United-States, Cambodia, England, Puerto-Rico, Canada, Germany, Outlying-US(Guam-USVI-etc), India, Japan, Greece, South, China, Cuba, Iran, Honduras, Philippines, Italy, Poland, Jamaica, Vietnam, Mexico, Portugal, Ireland, France, Dominican-Republic, Laos, Ecuador, Taiwan, Haiti, Columbia, Hungary, Guatemala, Nicaragua, Scotland, Thailand, Yugoslavia, El-Salvador, Trinadad&Tobago, Peru, Hong, Holand-Netherlands.\n",
    "\n",
    "class: >50K, <=50K\n",
    "\n",
    "*Missing Attribute Values:*\n",
    "\n",
    "7% have missing values.\n",
    "\n",
    "*Class Distribution:*\n",
    "\n",
    "Probability for the label '>50K' : 23.93% / 24.78% (without unknowns)\n",
    "Probability for the label '<=50K' : 76.07% / 75.22% (without unknowns)"
   ]
  },
  {
   "cell_type": "code",
   "execution_count": 14,
   "metadata": {
    "id": "cxcwLcG9zN6h"
   },
   "outputs": [
    {
     "data": {
      "text/html": [
       "<div>\n",
       "<style scoped>\n",
       "    .dataframe tbody tr th:only-of-type {\n",
       "        vertical-align: middle;\n",
       "    }\n",
       "\n",
       "    .dataframe tbody tr th {\n",
       "        vertical-align: top;\n",
       "    }\n",
       "\n",
       "    .dataframe thead th {\n",
       "        text-align: right;\n",
       "    }\n",
       "</style>\n",
       "<table border=\"1\" class=\"dataframe\">\n",
       "  <thead>\n",
       "    <tr style=\"text-align: right;\">\n",
       "      <th></th>\n",
       "      <th>review</th>\n",
       "      <th>sentiment</th>\n",
       "    </tr>\n",
       "  </thead>\n",
       "  <tbody>\n",
       "    <tr>\n",
       "      <th>0</th>\n",
       "      <td>One of the other reviewers has mentioned that ...</td>\n",
       "      <td>positive</td>\n",
       "    </tr>\n",
       "    <tr>\n",
       "      <th>1</th>\n",
       "      <td>A wonderful little production. &lt;br /&gt;&lt;br /&gt;The...</td>\n",
       "      <td>positive</td>\n",
       "    </tr>\n",
       "    <tr>\n",
       "      <th>2</th>\n",
       "      <td>I thought this was a wonderful way to spend ti...</td>\n",
       "      <td>positive</td>\n",
       "    </tr>\n",
       "    <tr>\n",
       "      <th>3</th>\n",
       "      <td>Basically there's a family where a little boy ...</td>\n",
       "      <td>negative</td>\n",
       "    </tr>\n",
       "    <tr>\n",
       "      <th>4</th>\n",
       "      <td>Petter Mattei's \"Love in the Time of Money\" is...</td>\n",
       "      <td>positive</td>\n",
       "    </tr>\n",
       "    <tr>\n",
       "      <th>...</th>\n",
       "      <td>...</td>\n",
       "      <td>...</td>\n",
       "    </tr>\n",
       "    <tr>\n",
       "      <th>49995</th>\n",
       "      <td>I thought this movie did a down right good job...</td>\n",
       "      <td>positive</td>\n",
       "    </tr>\n",
       "    <tr>\n",
       "      <th>49996</th>\n",
       "      <td>Bad plot, bad dialogue, bad acting, idiotic di...</td>\n",
       "      <td>negative</td>\n",
       "    </tr>\n",
       "    <tr>\n",
       "      <th>49997</th>\n",
       "      <td>I am a Catholic taught in parochial elementary...</td>\n",
       "      <td>negative</td>\n",
       "    </tr>\n",
       "    <tr>\n",
       "      <th>49998</th>\n",
       "      <td>I'm going to have to disagree with the previou...</td>\n",
       "      <td>negative</td>\n",
       "    </tr>\n",
       "    <tr>\n",
       "      <th>49999</th>\n",
       "      <td>No one expects the Star Trek movies to be high...</td>\n",
       "      <td>negative</td>\n",
       "    </tr>\n",
       "  </tbody>\n",
       "</table>\n",
       "<p>50000 rows × 2 columns</p>\n",
       "</div>"
      ],
      "text/plain": [
       "                                                  review sentiment\n",
       "0      One of the other reviewers has mentioned that ...  positive\n",
       "1      A wonderful little production. <br /><br />The...  positive\n",
       "2      I thought this was a wonderful way to spend ti...  positive\n",
       "3      Basically there's a family where a little boy ...  negative\n",
       "4      Petter Mattei's \"Love in the Time of Money\" is...  positive\n",
       "...                                                  ...       ...\n",
       "49995  I thought this movie did a down right good job...  positive\n",
       "49996  Bad plot, bad dialogue, bad acting, idiotic di...  negative\n",
       "49997  I am a Catholic taught in parochial elementary...  negative\n",
       "49998  I'm going to have to disagree with the previou...  negative\n",
       "49999  No one expects the Star Trek movies to be high...  negative\n",
       "\n",
       "[50000 rows x 2 columns]"
      ]
     },
     "execution_count": 14,
     "metadata": {},
     "output_type": "execute_result"
    }
   ],
   "source": [
    "\n",
    "import pandas as pd\n",
    "import numpy as np\n",
    "from sklearn.model_selection import train_test_split\n",
    "from sklearn.preprocessing import StandardScaler, LabelEncoder\n",
    "import tensorflow as tf\n",
    "from tensorflow.keras.models import Sequential\n",
    "from tensorflow.keras.layers import Dense\n",
    "from tensorflow.keras.utils import to_categorical\n",
    "\n",
    "# Load the dataset\n",
    "file_path = 'IMDB Dataset.csv'\n",
    "df = pd.read_csv(file_path)\n",
    "df"
   ]
  },
  {
   "cell_type": "markdown",
   "metadata": {
    "id": "birzUnXYzzup"
   },
   "source": [
    "# Data Preprocesssing"
   ]
  },
  {
   "cell_type": "code",
   "execution_count": 16,
   "metadata": {
    "id": "HCb9JnvMzbJZ"
   },
   "outputs": [],
   "source": [
    "# Check for missing values\n",
    "df.isnull().sum()\n",
    "\n",
    "# Encoding categorical features\n",
    "categorical_columns = df.select_dtypes(include=['object']).columns\n",
    "\n",
    "for col in categorical_columns:\n",
    "    le = LabelEncoder()\n",
    "    df[col] = le.fit_transform(df[col])\n",
    "\n",
    "# Separating the features (X) and the target variable (y)\n",
    "y = df['sentiment']\n",
    "X = df.drop('sentiment', axis=1)  # Replace 'target_column_name' with the actual target column name\n",
    "\n",
    "\n",
    "# Splitting the data into training and testing sets\n",
    "X_train, X_test, y_train, y_test = train_test_split(X, y, test_size=0.2, random_state=42)\n",
    "\n",
    "# Standardizing the data\n",
    "scaler = StandardScaler()\n",
    "X_train = scaler.fit_transform(X_train)\n",
    "X_test = scaler.transform(X_test)\n"
   ]
  },
  {
   "cell_type": "markdown",
   "metadata": {
    "id": "Pmajghb9z57K"
   },
   "source": [
    "# Building Neural Networks"
   ]
  },
  {
   "cell_type": "code",
   "execution_count": 17,
   "metadata": {
    "id": "vIC6ljQtzi1b"
   },
   "outputs": [
    {
     "name": "stdout",
     "output_type": "stream",
     "text": [
      "Model: \"sequential_1\"\n",
      "_________________________________________________________________\n",
      " Layer (type)                Output Shape              Param #   \n",
      "=================================================================\n",
      " dense_3 (Dense)             (None, 64)                128       \n",
      "                                                                 \n",
      " dense_4 (Dense)             (None, 32)                2080      \n",
      "                                                                 \n",
      " dense_5 (Dense)             (None, 1)                 33        \n",
      "                                                                 \n",
      "=================================================================\n",
      "Total params: 2,241\n",
      "Trainable params: 2,241\n",
      "Non-trainable params: 0\n",
      "_________________________________________________________________\n"
     ]
    }
   ],
   "source": [
    "# Define the model\n",
    "model = Sequential()\n",
    "model.add(Dense(64, input_dim=X_train.shape[1], activation='relu'))\n",
    "model.add(Dense(32, activation='relu'))\n",
    "model.add(Dense(1, activation='sigmoid'))  # Use 'softmax' for multi-class classification\n",
    "\n",
    "# Compile the model\n",
    "model.compile(loss='binary_crossentropy', optimizer='adam', metrics=['accuracy'])  # Use 'categorical_crossentropy' for multi-class\n",
    "\n",
    "# Summary of the model\n",
    "model.summary()\n"
   ]
  },
  {
   "cell_type": "markdown",
   "metadata": {
    "id": "RJZ5s1oE0E9b"
   },
   "source": [
    "# Train the NN network"
   ]
  },
  {
   "cell_type": "code",
   "execution_count": 18,
   "metadata": {
    "id": "jQL7nKjQzpp-"
   },
   "outputs": [
    {
     "name": "stdout",
     "output_type": "stream",
     "text": [
      "Epoch 1/50\n",
      "1000/1000 [==============================] - 2s 2ms/step - loss: 0.6934 - accuracy: 0.5062 - val_loss: 0.6928 - val_accuracy: 0.5044\n",
      "Epoch 2/50\n",
      "1000/1000 [==============================] - 2s 2ms/step - loss: 0.6930 - accuracy: 0.5079 - val_loss: 0.6926 - val_accuracy: 0.5136\n",
      "Epoch 3/50\n",
      "1000/1000 [==============================] - 2s 2ms/step - loss: 0.6929 - accuracy: 0.5128 - val_loss: 0.6923 - val_accuracy: 0.5142\n",
      "Epoch 4/50\n",
      "1000/1000 [==============================] - 1s 1ms/step - loss: 0.6927 - accuracy: 0.5128 - val_loss: 0.6923 - val_accuracy: 0.5200\n",
      "Epoch 5/50\n",
      "1000/1000 [==============================] - 2s 2ms/step - loss: 0.6927 - accuracy: 0.5137 - val_loss: 0.6926 - val_accuracy: 0.5232\n",
      "Epoch 6/50\n",
      "1000/1000 [==============================] - 2s 2ms/step - loss: 0.6928 - accuracy: 0.5112 - val_loss: 0.6925 - val_accuracy: 0.5189\n",
      "Epoch 7/50\n",
      "1000/1000 [==============================] - 2s 2ms/step - loss: 0.6926 - accuracy: 0.5124 - val_loss: 0.6926 - val_accuracy: 0.5115\n",
      "Epoch 8/50\n",
      "1000/1000 [==============================] - 2s 2ms/step - loss: 0.6927 - accuracy: 0.5142 - val_loss: 0.6926 - val_accuracy: 0.5182\n",
      "Epoch 9/50\n",
      "1000/1000 [==============================] - 2s 2ms/step - loss: 0.6927 - accuracy: 0.5114 - val_loss: 0.6923 - val_accuracy: 0.5224\n",
      "Epoch 10/50\n",
      "1000/1000 [==============================] - 2s 2ms/step - loss: 0.6926 - accuracy: 0.5174 - val_loss: 0.6924 - val_accuracy: 0.5181\n",
      "Epoch 11/50\n",
      "1000/1000 [==============================] - 2s 2ms/step - loss: 0.6926 - accuracy: 0.5158 - val_loss: 0.6927 - val_accuracy: 0.5156\n",
      "Epoch 12/50\n",
      "1000/1000 [==============================] - 2s 2ms/step - loss: 0.6926 - accuracy: 0.5129 - val_loss: 0.6925 - val_accuracy: 0.5139\n",
      "Epoch 13/50\n",
      "1000/1000 [==============================] - 2s 2ms/step - loss: 0.6925 - accuracy: 0.5174 - val_loss: 0.6926 - val_accuracy: 0.5136\n",
      "Epoch 14/50\n",
      "1000/1000 [==============================] - 2s 2ms/step - loss: 0.6925 - accuracy: 0.5132 - val_loss: 0.6923 - val_accuracy: 0.5159\n",
      "Epoch 15/50\n",
      "1000/1000 [==============================] - 2s 2ms/step - loss: 0.6925 - accuracy: 0.5145 - val_loss: 0.6923 - val_accuracy: 0.5199\n",
      "Epoch 16/50\n",
      "1000/1000 [==============================] - 2s 2ms/step - loss: 0.6924 - accuracy: 0.5163 - val_loss: 0.6922 - val_accuracy: 0.5178\n",
      "Epoch 17/50\n",
      "1000/1000 [==============================] - 2s 2ms/step - loss: 0.6924 - accuracy: 0.5157 - val_loss: 0.6923 - val_accuracy: 0.5140\n",
      "Epoch 18/50\n",
      "1000/1000 [==============================] - 2s 2ms/step - loss: 0.6924 - accuracy: 0.5186 - val_loss: 0.6925 - val_accuracy: 0.5132\n",
      "Epoch 19/50\n",
      "1000/1000 [==============================] - 2s 2ms/step - loss: 0.6924 - accuracy: 0.5151 - val_loss: 0.6923 - val_accuracy: 0.5171\n",
      "Epoch 20/50\n",
      "1000/1000 [==============================] - 2s 2ms/step - loss: 0.6924 - accuracy: 0.5161 - val_loss: 0.6923 - val_accuracy: 0.5189\n",
      "Epoch 21/50\n",
      "1000/1000 [==============================] - 1s 1ms/step - loss: 0.6923 - accuracy: 0.5166 - val_loss: 0.6923 - val_accuracy: 0.5144\n",
      "Epoch 22/50\n",
      "1000/1000 [==============================] - 1s 1ms/step - loss: 0.6923 - accuracy: 0.5149 - val_loss: 0.6922 - val_accuracy: 0.5142\n",
      "Epoch 23/50\n",
      "1000/1000 [==============================] - 1s 1ms/step - loss: 0.6923 - accuracy: 0.5174 - val_loss: 0.6922 - val_accuracy: 0.5242\n",
      "Epoch 24/50\n",
      "1000/1000 [==============================] - 1s 1ms/step - loss: 0.6922 - accuracy: 0.5179 - val_loss: 0.6921 - val_accuracy: 0.5149\n",
      "Epoch 25/50\n",
      "1000/1000 [==============================] - 1s 1ms/step - loss: 0.6922 - accuracy: 0.5171 - val_loss: 0.6920 - val_accuracy: 0.5184\n",
      "Epoch 26/50\n",
      "1000/1000 [==============================] - 2s 2ms/step - loss: 0.6922 - accuracy: 0.5150 - val_loss: 0.6919 - val_accuracy: 0.5149\n",
      "Epoch 27/50\n",
      "1000/1000 [==============================] - 1s 1ms/step - loss: 0.6921 - accuracy: 0.5161 - val_loss: 0.6919 - val_accuracy: 0.5307\n",
      "Epoch 28/50\n",
      "1000/1000 [==============================] - 1s 1ms/step - loss: 0.6921 - accuracy: 0.5173 - val_loss: 0.6920 - val_accuracy: 0.5117\n",
      "Epoch 29/50\n",
      "1000/1000 [==============================] - 2s 2ms/step - loss: 0.6920 - accuracy: 0.5185 - val_loss: 0.6919 - val_accuracy: 0.5204\n",
      "Epoch 30/50\n",
      "1000/1000 [==============================] - 2s 2ms/step - loss: 0.6920 - accuracy: 0.5184 - val_loss: 0.6918 - val_accuracy: 0.5175\n",
      "Epoch 31/50\n",
      "1000/1000 [==============================] - 2s 2ms/step - loss: 0.6919 - accuracy: 0.5176 - val_loss: 0.6918 - val_accuracy: 0.5203\n",
      "Epoch 32/50\n",
      "1000/1000 [==============================] - 2s 2ms/step - loss: 0.6919 - accuracy: 0.5195 - val_loss: 0.6917 - val_accuracy: 0.5286\n",
      "Epoch 33/50\n",
      "1000/1000 [==============================] - 2s 2ms/step - loss: 0.6918 - accuracy: 0.5210 - val_loss: 0.6921 - val_accuracy: 0.5195\n",
      "Epoch 34/50\n",
      "1000/1000 [==============================] - 2s 2ms/step - loss: 0.6917 - accuracy: 0.5214 - val_loss: 0.6916 - val_accuracy: 0.5249\n",
      "Epoch 35/50\n",
      "1000/1000 [==============================] - 2s 2ms/step - loss: 0.6917 - accuracy: 0.5176 - val_loss: 0.6918 - val_accuracy: 0.5224\n",
      "Epoch 36/50\n",
      "1000/1000 [==============================] - 1s 1ms/step - loss: 0.6917 - accuracy: 0.5199 - val_loss: 0.6915 - val_accuracy: 0.5253\n",
      "Epoch 37/50\n",
      "1000/1000 [==============================] - 2s 2ms/step - loss: 0.6917 - accuracy: 0.5197 - val_loss: 0.6914 - val_accuracy: 0.5240\n",
      "Epoch 38/50\n",
      "1000/1000 [==============================] - 1s 1ms/step - loss: 0.6917 - accuracy: 0.5216 - val_loss: 0.6915 - val_accuracy: 0.5265\n",
      "Epoch 39/50\n",
      "1000/1000 [==============================] - 2s 2ms/step - loss: 0.6916 - accuracy: 0.5232 - val_loss: 0.6915 - val_accuracy: 0.5271\n",
      "Epoch 40/50\n",
      "1000/1000 [==============================] - 2s 2ms/step - loss: 0.6916 - accuracy: 0.5222 - val_loss: 0.6916 - val_accuracy: 0.5297\n",
      "Epoch 41/50\n",
      "1000/1000 [==============================] - 2s 2ms/step - loss: 0.6916 - accuracy: 0.5234 - val_loss: 0.6912 - val_accuracy: 0.5289\n",
      "Epoch 42/50\n",
      "1000/1000 [==============================] - 2s 2ms/step - loss: 0.6915 - accuracy: 0.5241 - val_loss: 0.6914 - val_accuracy: 0.5245\n",
      "Epoch 43/50\n",
      "1000/1000 [==============================] - 2s 2ms/step - loss: 0.6915 - accuracy: 0.5242 - val_loss: 0.6912 - val_accuracy: 0.5266\n",
      "Epoch 44/50\n",
      "1000/1000 [==============================] - 2s 2ms/step - loss: 0.6914 - accuracy: 0.5248 - val_loss: 0.6915 - val_accuracy: 0.5215\n",
      "Epoch 45/50\n",
      "1000/1000 [==============================] - 2s 2ms/step - loss: 0.6914 - accuracy: 0.5250 - val_loss: 0.6912 - val_accuracy: 0.5279\n",
      "Epoch 46/50\n",
      "1000/1000 [==============================] - 2s 2ms/step - loss: 0.6914 - accuracy: 0.5238 - val_loss: 0.6912 - val_accuracy: 0.5316\n",
      "Epoch 47/50\n",
      "1000/1000 [==============================] - 2s 2ms/step - loss: 0.6914 - accuracy: 0.5239 - val_loss: 0.6910 - val_accuracy: 0.5265\n",
      "Epoch 48/50\n",
      "1000/1000 [==============================] - 2s 2ms/step - loss: 0.6914 - accuracy: 0.5237 - val_loss: 0.6912 - val_accuracy: 0.5232\n",
      "Epoch 49/50\n",
      "1000/1000 [==============================] - 2s 2ms/step - loss: 0.6915 - accuracy: 0.5237 - val_loss: 0.6910 - val_accuracy: 0.5282\n",
      "Epoch 50/50\n",
      "1000/1000 [==============================] - 2s 2ms/step - loss: 0.6913 - accuracy: 0.5245 - val_loss: 0.6913 - val_accuracy: 0.5259\n",
      "313/313 [==============================] - 0s 1ms/step - loss: 0.6915 - accuracy: 0.5193\n",
      "Test Accuracy: 0.5192999839782715\n"
     ]
    }
   ],
   "source": [
    "# Train the model\n",
    "history = model.fit(X_train, y_train, epochs=50, batch_size=32, validation_split=0.2)\n",
    "\n",
    "# Evaluate the model on the test data\n",
    "test_loss, test_acc = model.evaluate(X_test, y_test)\n",
    "print(f\"Test Accuracy: {test_acc}\")\n"
   ]
  },
  {
   "cell_type": "markdown",
   "metadata": {
    "id": "qCtyFy-m0M1E"
   },
   "source": [
    "# Making predictions"
   ]
  },
  {
   "cell_type": "code",
   "execution_count": 33,
   "metadata": {
    "id": "zOAipqzvzsse"
   },
   "outputs": [
    {
     "name": "stdout",
     "output_type": "stream",
     "text": [
      "313/313 [==============================] - 0s 712us/step\n",
      "[[1849 3112]\n",
      " [1695 3344]]\n",
      "              precision    recall  f1-score   support\n",
      "\n",
      "           0       0.52      0.37      0.43      4961\n",
      "           1       0.52      0.66      0.58      5039\n",
      "\n",
      "    accuracy                           0.52     10000\n",
      "   macro avg       0.52      0.52      0.51     10000\n",
      "weighted avg       0.52      0.52      0.51     10000\n",
      "\n"
     ]
    }
   ],
   "source": [
    "# Making predictions on the test set\n",
    "y_pred = (model.predict(X_test) > 0.5).astype(\"int32\")\n",
    "\n",
    "from sklearn.metrics import confusion_matrix, classification_report\n",
    "print(confusion_matrix(y_test, y_pred))\n",
    "print(classification_report(y_test, y_pred))\n"
   ]
  },
  {
   "cell_type": "code",
   "execution_count": 20,
   "metadata": {
    "id": "EOSRTUSWzu9K"
   },
   "outputs": [],
   "source": [
    "# Save the trained model\n",
    "model.save('imdb_model.h5')"
   ]
  },
  {
   "cell_type": "code",
   "execution_count": 37,
   "metadata": {
    "id": "YzkOFX9J2-HD"
   },
   "outputs": [
    {
     "data": {
      "image/png": "[encoded data removed]",
      "text/plain": [
       "<Figure size 1200x600 with 1 Axes>"
      ]
     },
     "metadata": {},
     "output_type": "display_data"
    }
   ],
   "source": [
    "import matplotlib.pyplot as plt\n",
    "import seaborn as sns\n",
    "import numpy as np\n",
    "import pandas as pd\n",
    "\n",
    "# Predict class probabilities and then convert to class labels\n",
    "y_pred = np.argmax(y_pred_prob, axis=1) \n",
    "# Combine actual and predicted labels into a DataFrame\n",
    "results_df = pd.DataFrame({\n",
    "    'Actual': y_test,\n",
    "    'Predicted': y_pred\n",
    "})\n",
    "y_pred = np.argmax(y_pred_prob, axis=1)  # Get the index of the highest probability\n",
    "\n",
    "plt.figure(figsize=(12, 6))\n",
    "sns.countplot(x='Actual', hue='Predicted', data=results_df, palette='viridis')\n",
    "\n",
    "plt.xlabel('Actual Category')\n",
    "plt.ylabel('Count')\n",
    "plt.title('Count of Actual vs. Predicted Categories')\n",
    "\n",
    "# Show plot\n",
    "plt.show()\n"
   ]
  },
  {
   "cell_type": "code",
   "execution_count": null,
   "metadata": {},
   "outputs": [],
   "source": []
  }
 ],
 "metadata": {
  "colab": {
   "provenance": []
  },
  "kernelspec": {
   "display_name": "Python 3 (ipykernel)",
   "language": "python",
   "name": "python3"
  },
  "language_info": {
   "codemirror_mode": {
    "name": "ipython",
    "version": 3
   },
   "file_extension": ".py",
   "mimetype": "text/x-python",
   "name": "python",
   "nbconvert_exporter": "python",
   "pygments_lexer": "ipython3",
   "version": "3.10.9"
  }
 },
 "nbformat": 4,
 "nbformat_minor": 1
}
